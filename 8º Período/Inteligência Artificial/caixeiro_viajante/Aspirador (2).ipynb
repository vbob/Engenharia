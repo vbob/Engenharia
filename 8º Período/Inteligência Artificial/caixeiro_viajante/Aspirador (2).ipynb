{
 "cells": [
  {
   "cell_type": "markdown",
   "metadata": {},
   "source": [
    "## Problema do Arpirador-de-Pó\n",
    "\n",
    "Um robô aspirador que se encontra em uma sala quadrada dividida em n posições, tem como objetivo limpar todas as posições da sala.\n",
    "\n",
    "### Solução utilizando Algoritmos de Busca Não-Informada (Busca Cega)\n",
    "\n",
    "Escopo do problema:\n",
    "\n",
    "* Estados: Posição em que o robo se encontra em um dado momento.\n",
    "* Estado Inicial: Qualquer uma das posições.\n",
    "* Ações Possíveis: O robo pode andar para quatro posições: esquerda, direita, cima, baixo; e pode limpar a posição.\n",
    "* Modelo de Transição: A matriz da sala, mostrando onde já foi limpo.\n",
    "* Teste de Objetivo: Todas as posições da sala devem estar limpas."
   ]
  },
  {
   "cell_type": "markdown",
   "metadata": {},
   "source": [
    "______________________________________________________________________________________________________________________________"
   ]
  },
  {
   "cell_type": "markdown",
   "metadata": {},
   "source": [
    "- Será utilizada uma matriz de estados, correspondente ao tamanho da sala. Esta matriz pode ter N linhas e M colunas.\n",
    "\n",
    "_Inicialmente a matriz de estados é iniciada com todas as posições = 1, equivalente a sala inteira suja. Quando uma posição é limpa, o valor da posição é modificado para 0._\n"
   ]
  },
  {
   "cell_type": "code",
   "execution_count": 1,
   "metadata": {},
   "outputs": [
    {
     "name": "stdout",
     "output_type": "stream",
     "text": [
      "[[1 1 1]\n",
      " [1 1 1]\n",
      " [1 1 1]]\n"
     ]
    }
   ],
   "source": [
    "import numpy as np\n",
    "from collections import deque\n",
    "\n",
    "linhas = 3\n",
    "colunas = 3\n",
    "\n",
    "matriz_estados = np.zeros((linhas,colunas), dtype=np.int32)\n",
    "\n",
    "#matriz com o objetivo final, ou seja, todas as posições limpas\n",
    "matriz_objetivo = matriz_estados.copy()\n",
    "\n",
    "#matriz de estados inicial, ou seja, todas as posições sujas\n",
    "matriz_estados[0:linhas, 0:colunas] = 1\n",
    "\n",
    "custo_caminho = 1\n",
    "\n",
    "print (matriz_estados)\n"
   ]
  },
  {
   "cell_type": "code",
   "execution_count": 2,
   "metadata": {},
   "outputs": [],
   "source": [
    "# Método utilizado para verificar se a posição inicial definida pelo usuário é valida na matriz de estados.\n",
    "\n",
    "def estado(linha, coluna):\n",
    "    erro = True\n",
    "    \n",
    "    estado_inicial = [linha,coluna]\n",
    "\n",
    "    if estado_inicial[0] > linhas or estado_inicial[1] > colunas:\n",
    "        erro = False\n",
    "    \n",
    "    return erro"
   ]
  },
  {
   "cell_type": "markdown",
   "metadata": {},
   "source": [
    "#### Ações possíveis\n",
    "\n",
    "O robo pode realizar 5 ações, que serão armazenadas em um vetor na seguinte sequência:\n",
    "\n",
    "- limpar\n",
    "- esquerda\n",
    "- direita\n",
    "- cima\n",
    "- baixo\n",
    "\n",
    "Quando uma ação no vetor for igual a 1, esta ação pode ser executada, e não poderá executar quando for 0."
   ]
  },
  {
   "cell_type": "code",
   "execution_count": 3,
   "metadata": {},
   "outputs": [],
   "source": [
    "# Método utilizado para definir as ações possíveis para a posição atual do robo\n",
    "\n",
    "def acoes_possiveis(estado):\n",
    "    acoes = [1,1,1,1,1]\n",
    "        \n",
    "    if estado[0] == 0:\n",
    "        acoes[3] = 0\n",
    "        \n",
    "    if estado[0] == (linhas-1):\n",
    "        acoes[4] = 0\n",
    "    \n",
    "    if estado[1] == 0:\n",
    "        acoes[1] = 0\n",
    "    \n",
    "    if estado[1] == (colunas-1):\n",
    "        acoes[2] = 0     \n",
    "    \n",
    "    return acoes"
   ]
  },
  {
   "cell_type": "code",
   "execution_count": 4,
   "metadata": {},
   "outputs": [],
   "source": [
    "# Método utilizado para verificar se todas as posições da matriz foram limpas\n",
    "\n",
    "def testar_objetivo(no):\n",
    "    teste_objetivo = False\n",
    "    \n",
    "    posicao = estado_inicial.copy()\n",
    "    \n",
    "    #copia da matriz original para matriz_transicao -> matriz temporária\n",
    "    matriz_transicao = matriz_estados.copy()\n",
    "    \n",
    "    solucao = avaliar_solucao(no)\n",
    "    \n",
    "    for acao in solucao:\n",
    "        if acao == \"Limpar\":       \n",
    "            matriz_transicao[posicao[0]][posicao[1]] = 0\n",
    "    \n",
    "        elif acao == \"Esquerda\":\n",
    "            posicao[1] -= 1\n",
    "\n",
    "        elif acao == \"Direita\":\n",
    "            posicao[1] += 1\n",
    "\n",
    "        elif acao == \"Cima\":\n",
    "            posicao[0] -= 1\n",
    "\n",
    "        elif acao == \"Baixo\":\n",
    "            posicao[0] += 1\n",
    "            \n",
    "    if np.array_equal(matriz_transicao, matriz_objetivo):\n",
    "        teste_objetivo = True\n",
    "        \n",
    "      \n",
    "    return teste_objetivo\n",
    "            "
   ]
  },
  {
   "cell_type": "code",
   "execution_count": 5,
   "metadata": {},
   "outputs": [],
   "source": [
    "#Método que avalia recursivamente todos os nós percorridos\n",
    "\n",
    "def avaliar_solucao(no_final):\n",
    "    vetor_solucao = []\n",
    "\n",
    "    while not no_final.pai == None:\n",
    "        vetor_solucao.append(no_final.acao)\n",
    "        no_final = no_final.pai\n",
    "        \n",
    "    return vetor_solucao"
   ]
  },
  {
   "cell_type": "code",
   "execution_count": 6,
   "metadata": {},
   "outputs": [],
   "source": [
    "class No:\n",
    "\n",
    "    def __init__(self, estado, pai, acao, custo):\n",
    "        self.estado = estado\n",
    "        self.pai = pai\n",
    "        self.acao = acao\n",
    "        self.custo = custo\n",
    "        \n",
    "    def __repr__(self):\n",
    "        if self.pai:\n",
    "            return 'No{\\n Estado: %s\\n Pai: %s,\\n Ação: %s,\\n Custo: %s \\n}' % (self.estado, self.pai.estado, self.acao, self.custo)\n",
    "        else:\n",
    "            return 'No{\\n Estado: %s,\\n Pai: %s,\\n Ação: %s,\\n Custo: %s \\n}' % (self.estado, 'None', self.acao, self.custo)"
   ]
  },
  {
   "cell_type": "code",
   "execution_count": 11,
   "metadata": {},
   "outputs": [],
   "source": [
    "def no_filho(pai, acao):\n",
    "    \n",
    "    estado_atual = pai.estado.copy()\n",
    "       \n",
    "    if acao[0] == 1:        \n",
    "        acao_atual = \"Limpar\"\n",
    "    \n",
    "    elif acao[1] == 1:\n",
    "        estado_atual[1] -= 1\n",
    "        acao_atual = \"Esquerda\"\n",
    "        \n",
    "    elif acao[2] == 1:\n",
    "        estado_atual[1] += 1\n",
    "        acao_atual = \"Direita\"\n",
    "        \n",
    "    elif acao[3] == 1:\n",
    "        estado_atual[0] -= 1\n",
    "        acao_atual = \"Cima\"\n",
    "    \n",
    "    elif acao[4] == 1:\n",
    "        estado_atual[0] += 1\n",
    "        acao_atual = \"Baixo\"\n",
    "           \n",
    "    #print(\"possiveis %s estado pai: %s acao atual: %s estado_atual: %s\" % (acoes_possiveis(pai.estado), pai.estado, acao_atual, estado_atual))\n",
    "    filho = No(estado_atual, pai, acao_atual, pai.custo + 1)\n",
    "    \n",
    "    return filho"
   ]
  },
  {
   "cell_type": "markdown",
   "metadata": {},
   "source": [
    "## Algoritmo de Busca em largura"
   ]
  },
  {
   "cell_type": "code",
   "execution_count": 12,
   "metadata": {},
   "outputs": [],
   "source": [
    "\"\"\" Definição do Nó Raiz \"\"\"\n",
    "\n",
    "#entrada da linha e coluna para a posição inicial do robo\n",
    "linha = 1\n",
    "coluna = 1\n",
    "\n",
    "\n",
    "#se a posição inicial existir declara o estado inicial\n",
    "if estado(linha,coluna):\n",
    "    \n",
    "    estado_inicial = [linha-1, coluna-1]\n",
    "    no_inicial = No(estado_inicial, None, None, 0)\n",
    "        \n",
    "else:\n",
    "    print(\"Erro\")"
   ]
  },
  {
   "cell_type": "code",
   "execution_count": 58,
   "metadata": {
    "scrolled": true
   },
   "outputs": [
    {
     "name": "stdout",
     "output_type": "stream",
     "text": [
      "Atingiu o limite em:  No{\n",
      " Estado: [2, 0]\n",
      " Pai: [1, 0],\n",
      " Ação: Baixo,\n",
      " Custo: 149 \n",
      "}\n",
      "['Baixo', 'Esquerda', 'Esquerda', 'Cima', 'Direita', 'Baixo', 'Esquerda', 'Cima', 'Direita', 'Baixo', 'Esquerda', 'Cima', 'Direita', 'Baixo', 'Esquerda', 'Cima', 'Direita', 'Baixo', 'Esquerda', 'Cima', 'Direita', 'Baixo', 'Esquerda', 'Cima', 'Direita', 'Baixo', 'Esquerda', 'Cima', 'Direita', 'Baixo', 'Esquerda', 'Cima', 'Direita', 'Baixo', 'Esquerda', 'Cima', 'Direita', 'Baixo', 'Esquerda', 'Cima', 'Direita', 'Baixo', 'Esquerda', 'Cima', 'Direita', 'Baixo', 'Esquerda', 'Cima', 'Direita', 'Baixo', 'Esquerda', 'Cima', 'Direita', 'Baixo', 'Esquerda', 'Cima', 'Direita', 'Baixo', 'Esquerda', 'Cima', 'Direita', 'Baixo', 'Esquerda', 'Cima', 'Direita', 'Baixo', 'Esquerda', 'Cima', 'Direita', 'Baixo', 'Esquerda', 'Cima', 'Direita', 'Baixo', 'Esquerda', 'Cima', 'Direita', 'Baixo', 'Esquerda', 'Cima', 'Direita', 'Baixo', 'Esquerda', 'Cima', 'Direita', 'Baixo', 'Esquerda', 'Cima', 'Direita', 'Baixo', 'Esquerda', 'Cima', 'Direita', 'Baixo', 'Esquerda', 'Cima', 'Direita', 'Baixo', 'Esquerda', 'Cima', 'Direita', 'Baixo', 'Esquerda', 'Cima', 'Direita', 'Baixo', 'Esquerda', 'Cima', 'Direita', 'Baixo', 'Esquerda', 'Cima', 'Direita', 'Baixo', 'Esquerda', 'Cima', 'Direita', 'Baixo', 'Esquerda', 'Cima', 'Direita', 'Baixo', 'Esquerda', 'Cima', 'Direita', 'Baixo', 'Esquerda', 'Cima', 'Direita', 'Baixo', 'Esquerda', 'Cima', 'Direita', 'Baixo', 'Esquerda', 'Cima', 'Direita', 'Baixo', 'Esquerda', 'Cima', 'Direita', 'Baixo', 'Baixo', 'Esquerda', 'Cima', 'Limpar', 'Baixo', 'Direita', 'Direita']\n"
     ]
    }
   ],
   "source": [
    "\"\"\" Busca em largura \"\"\"\n",
    "\n",
    "no = no_inicial\n",
    "\n",
    "borda = deque([no])\n",
    "explorado = deque()\n",
    "limite=0\n",
    "\n",
    "while True:\n",
    "    \n",
    "    limite+=1\n",
    "    \n",
    "    if limite == 1000:\n",
    "        print(\"Atingiu o limite em: \", no)\n",
    "        solucao = avaliar_solucao(no)\n",
    "        print (solucao)\n",
    "        break\n",
    "        \n",
    "    if testar_objetivo(no):\n",
    "        solucao = avaliar_solucao(no)\n",
    "        print (solucao)\n",
    "        break\n",
    "        \n",
    "    elif len(borda) == 0: \n",
    "        print('Falha ao explorar os nós')\n",
    "        break\n",
    "        \n",
    "    else:        \n",
    "        no = borda.popleft()\n",
    "           \n",
    "        acoes = acoes_possiveis(no.estado)\n",
    "\n",
    "        for i, valor in enumerate(acoes):\n",
    "            acao_atual = [0,0,0,0,0]\n",
    "            if valor == 1:\n",
    "                acao_atual[i] = 1\n",
    "                filho = no_filho(no, acao_atual)  \n",
    "                if len(list(filter(lambda x: x.estado == filho.estado, borda))) == 0:    \n",
    "                    if not filho.acao == \"Limpar\":\n",
    "                        borda.append(filho)    \n",
    "                    elif not filho.estado in explorado:\n",
    "                        borda.append(filho) \n",
    "            \n",
    "                \n",
    "        if no.acao == \"Limpar\":\n",
    "            explorado.append(no.estado)\n",
    "        \n",
    "        # print(\"explorado: %s \\n\\n\\n borda: %s \\n\\n\\n no_atual: %s\" %(explorado, borda, no))"
   ]
  },
  {
   "cell_type": "markdown",
   "metadata": {},
   "source": [
    "## Algoritmo de Busca em Profundidade\n"
   ]
  },
  {
   "cell_type": "code",
   "execution_count": null,
   "metadata": {},
   "outputs": [],
   "source": [
    "no_inicial = None\n",
    "\n",
    "\"\"\" Definição do Nó Raiz \"\"\"\n",
    "\n",
    "linha = 2\n",
    "coluna = 2\n",
    "\n",
    "limite = (18)\n",
    "\n",
    "if estado(linha,coluna):\n",
    "    estado_inicial = [linha-1, coluna-1]\n",
    "    no_inicial = No(estado_inicial, None, None, 0, matriz_estados)\n",
    "\n",
    "else:\n",
    "    print(\"Erro\")\n"
   ]
  },
  {
   "cell_type": "code",
   "execution_count": null,
   "metadata": {},
   "outputs": [],
   "source": [
    "def bpl_recursiva(no_atual, limite):\n",
    "    \n",
    "    if testar_objetivo(no_atual.matriz_transicao):\n",
    "        return avaliar_solucao(no_atual)\n",
    "        \n",
    "    elif limite == 1:\n",
    "        return \"cutoff\"\n",
    "    \n",
    "    else:\n",
    "        corte = False        \n",
    "        acoes = acoes_possiveis(no_atual.estado, no_atual.matriz_transicao)\n",
    "        \n",
    "        if acoes == [0,0,0,0,0]:\n",
    "                return \"erro\"\n",
    "        \n",
    "        else:\n",
    "            for i, valor in enumerate(acoes):\n",
    "                acao_atual = [0,0,0,0,0]\n",
    "\n",
    "                if valor == 1:\n",
    "                    acao_atual[i] = 1\n",
    "                    filho = no_filho(no_atual, acao_atual, no_atual.matriz_transicao.copy())                \n",
    "                                        \n",
    "                    resultado = bpl_recursiva(filho, (limite-1))\n",
    "\n",
    "                    if resultado == \"cutoff\":\n",
    "                        corte = True\n",
    "                            \n",
    "                    elif not resultado == \"erro\": \n",
    "                        return resultado\n",
    "               \n",
    "        if corte:        \n",
    "            return \"cutoff\"\n",
    "        else:\n",
    "            return \"erro\"\n",
    "    "
   ]
  },
  {
   "cell_type": "code",
   "execution_count": null,
   "metadata": {},
   "outputs": [],
   "source": [
    "# chama método recursivo para algoritmo de busca em profundidade\n",
    "\n",
    "bpl_recursiva(no_inicial, limite)\n",
    "print(\"\\n\\n\", matriz_final)"
   ]
  },
  {
   "cell_type": "code",
   "execution_count": null,
   "metadata": {},
   "outputs": [],
   "source": []
  },
  {
   "cell_type": "code",
   "execution_count": null,
   "metadata": {},
   "outputs": [],
   "source": []
  }
 ],
 "metadata": {
  "kernelspec": {
   "display_name": "Python 3",
   "language": "python",
   "name": "python3"
  },
  "language_info": {
   "codemirror_mode": {
    "name": "ipython",
    "version": 3
   },
   "file_extension": ".py",
   "mimetype": "text/x-python",
   "name": "python",
   "nbconvert_exporter": "python",
   "pygments_lexer": "ipython3",
   "version": "3.7.0"
  }
 },
 "nbformat": 4,
 "nbformat_minor": 2
}
