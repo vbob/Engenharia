{
 "cells": [
  {
   "cell_type": "markdown",
   "metadata": {},
   "source": [
    "# Problema do Caixeiro-Viajante\n",
    "\n",
    "O problema do Caixeiro-Viajante trata a seguinte questão: \n",
    "\n",
    "_Dada uma lista de cidades e a distância entre elas, qual é a rota mais curta que passa por todas as cidades e retorna à cidade de origem?_\n",
    "\n",
    "Apesar da curta descrição, este é um dos mais famosos (e complexos) problemas na Ciência da Computação. Encontrar _a rota mais curta_ entre $n$ cidades, com algoritmos não otimizados, gasta um tempo $O(n!)$: a busca pelo caminho mais curto entre 20 cidades exige muito mais que o dobro de recursos gastos para encontrar a melhor rota entre 10 cidades.\n",
    "\n",
    "Usar busca exaustiva entre todos os caminhos garante que o caminho mais curto será encontrado, mas só é computacionalmente viável para pequenos conjuntos de cidades. Para problemas maiores, técnicas de otimização são necessárias para realizar uma busca inteligente no espaço de estados e encontrar soluções quase-ótimas.\n",
    "\n",
    "Abaixo, o problema será explicado matemáticamente e uma solução utilizando busca exaustiva será descrita.\n",
    "\n",
    "### Descrição do problema usando Teoria dos Grafos\n",
    "\n",
    "O problema do Caixeiro-Viajante pode ser modelado por grafos não direcionados com pesos, de modo que as cidades correspondam às vertices, rotas sejam as arestas, e a distância da rota seja o peso da aresta. A resposta ótima começa e termina no mesmo vértice, após todos os vértices terem sidos visitados pelo menos e somente uma vez. Um modelo baseado em grafos é apresentado na Figura 01.\n",
    "\n",
    "\n",
    "![Exemplo usando Grafos](imgs/img1.png \"Exemplo usando Grafos\")\n",
    "<center style=\"font-size: 0.8em\">Figura 01 - Exemplo de Mapa usando Grafos. Fonte: PIWONSKA, 2011</center>\n",
    "\n",
    "### Solução utilizando Algoritmos de Busca Não-Informada (i.e. Busca Cega)\n",
    "\n",
    "#### a) Definição do Escopo do Problema\n",
    "Para que um problema seja resolvido, é necessário definir seguintes propriedades\n",
    "\n",
    "- Estados: A descrição do estado corresponde à cidade onde o Caixeiro-Viajante se encontra em um dado momento.\n",
    "- Estado Inicial: Qualquer uma das cidades.\n",
    "- Ações Possíveis: Ir à uma das cidades que possuem ligação com a cidade atual.\n",
    "- Modelo de Transição: A lista das cidades visitadas.\n",
    "- Teste de Objetivo: Todas as cidades foram visitadas e a cidade atual é a mesma de onde o Caixeiro-Viajante partiu.\n",
    "\n"
   ]
  },
  {
   "cell_type": "markdown",
   "metadata": {},
   "source": [
    "####  b) Estados\n",
    "Será utilizado o mapa apresentado na Figura 01. Para representação computacional, será utilizada uma matriz $10x10$ onde cada elemento $a_{ij}$ indica a distância entre os vértices $i$ e $j$. Para indicar caminhos inexistentes será utilizado o valor $-1$, e para indicar a cidade atual será utilizado o valor $0$."
   ]
  },
  {
   "cell_type": "code",
   "execution_count": 4,
   "metadata": {},
   "outputs": [
    {
     "name": "stdout",
     "output_type": "stream",
     "text": [
      "Lista de Estados Possíveis: [1, 2, 3, 4, 5, 6, 7, 8, 9, 10] \n"
     ]
    }
   ],
   "source": [
    "# Deque => Double-Ended Queue \n",
    "# Pode ser utilizada tanto como FIFO quanto como LIFO\n",
    "from collections import deque\n",
    "\n",
    "dist_matrix = [\n",
    "    [ 0,  8, 13, -1, -1, 14, -1,  8, -1, -1], # Cidade 1\n",
    "    [ 8,  0,  9, 12, -1, -1, -1, -1, -1, 11], # Cidade 2\n",
    "    [13,  9,  0, -1, 13, 15, -1, -1, -1, -1], # Cidade 3\n",
    "    [-1, 12, -1,  0, 19, -1, -1, -1, -1, -1], # Cidade 4\n",
    "    [-1, -1, 13, 19,  0, 15, -1, -1, -1, -1], # Cidade 5\n",
    "    [14, -1, 15, -1, 15,  0, 22, 18, -1, -1], # Cidade 6\n",
    "    [-1, -1, -1, -1, -1, 22,  0, -1, 21, -1], # Cidade 7\n",
    "    [ 8, -1, -1, -1, -1, 18, -1,  0, 10,  8], # Cidade 8\n",
    "    [-1, -1, -1, -1, -1, -1, 21, 10,  0, 12], # Cidade 9\n",
    "    [-1, 11, -1, -1, -1, -1, -1,  8, 12,  0]] # Cidade 10\n",
    "\n",
    "list_of_possible_states = list(range(1, len(dist_matrix) + 1))\n",
    "\n",
    "print('Lista de Estados Possíveis: %s ' % list_of_possible_states)"
   ]
  },
  {
   "cell_type": "markdown",
   "metadata": {},
   "source": [
    "O estado inicial poderá ser qualquer cidade entre 1 e 10"
   ]
  },
  {
   "cell_type": "code",
   "execution_count": 5,
   "metadata": {},
   "outputs": [
    {
     "name": "stdout",
     "output_type": "stream",
     "text": [
      "Estado Inicial: Cidade 1\n"
     ]
    }
   ],
   "source": [
    "initial_state = 1\n",
    "\n",
    "if initial_state < 1 or initial_state > len(dist_matrix):\n",
    "    print('ERRO: Estado Inicial Inválido')\n",
    "else:\n",
    "    print('Estado Inicial: Cidade %s' % initial_state)"
   ]
  },
  {
   "cell_type": "markdown",
   "metadata": {},
   "source": [
    "#### c) Estruturas de Dados e Processamento\n",
    "O primeiro passo para se elaborar uma solução utilizando Busca Não-Informada é criar um modelo de estrutura de dados para manter o controle da árvore de busca que será construída.\n",
    "\n",
    "##### c.1) Nós\n",
    "O Modelo de Nó descrito no livro _Artificial Intelligente: A Modern Approach_, faz uso de três atributos:\n",
    "- Estado: O estado no espaço de estados que gerou este nó\n",
    "- Pai: O nó da árvore que gerou esse nó\n",
    "- Ação: A ação que foi aplicada para gerar esse nó\n",
    "- Custo do Caminho: O custo do caminho inicial até este nó\n",
    "\n",
    "Para descrever um nó, será criada uma classe com todas essas características."
   ]
  },
  {
   "cell_type": "code",
   "execution_count": 6,
   "metadata": {},
   "outputs": [],
   "source": [
    "class Node:\n",
    "    \"\"\" Classe para representação de Nós \"\"\"\n",
    "    \n",
    "    def __init__(self, state, parent, action, path_cost):\n",
    "        self.state = state\n",
    "        self.parent = parent\n",
    "        self.action = action\n",
    "        self.path_cost = path_cost\n",
    "\n",
    "    def __repr__(self):\n",
    "        if self.parent:\n",
    "            return 'Node<State: %s, Parent: %s, Action: %s, Cost: %s>' % (self.state, self.parent.state, self.action, self.path_cost)\n",
    "        else:\n",
    "            return 'Node<State: %s, Parent: %s, Action: %s, Cost: %s>\\n' % (self.state, 'None', self.action, self.path_cost)"
   ]
  },
  {
   "cell_type": "markdown",
   "metadata": {},
   "source": [
    "Dada a estrutura de um Nó, é fácil criar um método que retorne os componentes para um Nó-Filho. O método _child_\\__node_ que recebe um Nó-Pai, uma ação (que é um inteiro, indicando a cidade de destino) e o custo da ação atual, para então retornar o Nó-Filho resultante."
   ]
  },
  {
   "cell_type": "code",
   "execution_count": 7,
   "metadata": {},
   "outputs": [],
   "source": [
    "def child_node(problem, parent, action):\n",
    "    \"\"\" Método que retorna um Nó-Filho à partir de um Nó-Pai\"\"\"\n",
    "    \n",
    "    state = problem.result(parent.state, action)\n",
    "    path_cost = parent.path_cost + problem.step_cost(parent.state, action)\n",
    "    \n",
    "    child = Node(state, parent, action, path_cost) \n",
    "    \n",
    "    return child"
   ]
  },
  {
   "cell_type": "markdown",
   "metadata": {},
   "source": [
    "##### c.2) O problema\n",
    "São necessárias algumas variáveis de controle, além de métodos específicos ao problema. Para isso, será criada uma classe chamada _TravellingSalesman_ que abstrairá essas estruturas, permitindo que o Algoritmo de Busca seja genérico, e não específico ao problema: \n",
    "- Fila: A sequência de ações realizadas, inicialmente vazia.\n",
    "- Estado: O estado atual.\n",
    "- Teste de Objetivo: Verifica se o objetivo foi cumprido.\n",
    "- Ações Possíveis: Retorna uma lista com ações possíveis dado o estado atual.\n",
    "\n",
    "__Atenção__: Por não ser uma busca otimizada, não será verificado se todas as cidades foram visitadas SOMENTE uma vez."
   ]
  },
  {
   "cell_type": "code",
   "execution_count": 16,
   "metadata": {},
   "outputs": [],
   "source": [
    "class TravellingSalesperson:\n",
    "    \"\"\" Classe para organização de dados do problema \"\"\"\n",
    "    \n",
    "    def __init__(self, initial_state):\n",
    "        self.initial_state = initial_state\n",
    "    \n",
    "    def goal_test(self, node):\n",
    "        \"\"\" Retorna verdadeiro caso o objetivo tenha sido alcançado \"\"\"\n",
    "        \n",
    "        seq = self.solution(node)\n",
    "        \n",
    "        return all(elem in seq for elem in list_of_possible_states) and seq[len(seq)-1] == initial_state\n",
    "    \n",
    "    def actions(self, cur_state):\n",
    "        \"\"\" Retorna lista de cidades que podem ser acessadas à partir da cidade atual \"\"\"\n",
    "               \n",
    "        return [state+1 for state, distance in filter(lambda x: x[1] > 0, enumerate(dist_matrix[cur_state-1]))]\n",
    "    \n",
    "    def solution(self, node):\n",
    "        \"\"\" Retorna os passos executados para se chegar no estado do nó \"\"\"\n",
    "        seq = deque()\n",
    "        \n",
    "        while not node.parent == None:\n",
    "            seq.appendleft(node.action)\n",
    "            node = node.parent\n",
    "            \n",
    "        return seq\n",
    "    \n",
    "    def result(self, state, action):\n",
    "        \"\"\" Retorna o estado caso seja realizada uma ação \"\"\"\n",
    "        return action\n",
    "    \n",
    "    def step_cost(self, state, action):\n",
    "        \"\"\" Retorna o custo de realizar uma ação dado um estado \"\"\"\n",
    "        return dist_matrix[state-1][action-1]\n",
    "\n",
    "salesperson = TravellingSalesperson(initial_state)"
   ]
  },
  {
   "cell_type": "markdown",
   "metadata": {},
   "source": [
    "### Busca Não-Informada\n",
    "\n",
    "O termo Busca Não-Informada (ou Busca Cega) indica que não são utilizadas informações além daquelas apresentadas pelo problema. Tudo que o agente pode fazer é verificar se o objetivo foi ou não atingido. \n",
    "\n",
    "Existem dois algoritmos principais de Busca Não-Informada: Busca em Largura e Busca em Profundidade. Na Busca em Largura, todos os nós possíveis são expandidos igualmente, e verifica-se se o resultado foi atingido. Na Busca em Profundidade, cada nó é expandido individualmente até que alguma condição de falha seja atingida, e só então o próximo nó aberto (fronteira) é avaliado.\n",
    "\n",
    "#### Criação do Nó Inicial\n",
    "Independente do algoritmo de busca não-informada utilizado, este começa à partir de um Nó Inicial que contém as informações do estado inicial.\n",
    "\n",
    "__Atenção__: Neste problema, a resolução depende de todos os estados passados, portanto o estado armazenado no Nó corresponde ao conjunto dos estados passados, para simplificar o algoritmo de verificação. Outra possibilidade, apresentada no livro _Artificial Intelligence: A Modern Approach_ para avaliar se o objetivo foi atingido, seria analisar recursivamente os Nós da árvore, o que diminuiria o uso de memória para armazenamento da árvore mas aumentaria o tempo de processamento."
   ]
  },
  {
   "cell_type": "markdown",
   "metadata": {},
   "source": [
    "#### Busca em Largura (_Breadth-First Search \\[BFS\\]_)\n",
    "Esta é uma estratégia simples onde o nó inicial é expandido primeiro e todos os seus sucessores diretos são expandidos em seguida. "
   ]
  },
  {
   "cell_type": "code",
   "execution_count": 17,
   "metadata": {},
   "outputs": [],
   "source": [
    "def breadth_first_search(problem):\n",
    "    node = Node(problem.initial_state, None, None, 0)\n",
    "\n",
    "    if salesperson.goal_test(node):\n",
    "        return solution(node)\n",
    "\n",
    "    frontier = deque([node])\n",
    "    explored = deque()\n",
    "    \n",
    "    while True:\n",
    "        if len(frontier) == 0:\n",
    "            return 'Failure'\n",
    "        \n",
    "        node = frontier.popleft()\n",
    "        explored.append(node.state)\n",
    "        \n",
    "        for action in problem.actions(node.state):\n",
    "            child = child_node(problem, node, action)\n",
    "            \n",
    "            if not child.state in problem.solution(child.parent):  \n",
    "                if problem.goal_test(child):\n",
    "                    return problem.solution(child)\n",
    "                \n",
    "                frontier.append(child)\n",
    "        "
   ]
  },
  {
   "cell_type": "code",
   "execution_count": 18,
   "metadata": {},
   "outputs": [
    {
     "name": "stdout",
     "output_type": "stream",
     "text": [
      "SOLUTION:  deque([2, 4, 5, 3, 6, 7, 9, 10, 8, 1])\n"
     ]
    }
   ],
   "source": [
    "print('SOLUTION: ', breadth_first_search(salesperson))"
   ]
  },
  {
   "cell_type": "markdown",
   "metadata": {},
   "source": [
    "#### Busca em Profundidade (Depht-First Search [DFS])\n",
    "\n"
   ]
  },
  {
   "cell_type": "markdown",
   "metadata": {},
   "source": [
    "Nesta estratégia de busca, o nó é expandido até que chegue ao fim (ou atinga uma profundidade pré-determinada). A única mudança do algoritmo BFS é a estrutura de dados, que neste caso armazena os nós em uma pilha."
   ]
  },
  {
   "cell_type": "code",
   "execution_count": 19,
   "metadata": {},
   "outputs": [],
   "source": [
    "def depth_first_search(problem):\n",
    "    node = Node(problem.initial_state, None, None, 0)\n",
    "\n",
    "    if salesperson.goal_test(node):\n",
    "        return solution(node)\n",
    "\n",
    "    frontier = deque([node])\n",
    "    explored = deque()\n",
    "    \n",
    "    while True:\n",
    "        if len(frontier) == 0:\n",
    "            return 'Failure'\n",
    "        \n",
    "        node = frontier.popleft()\n",
    "        explored.append(node.state)\n",
    "        \n",
    "        for action in problem.actions(node.state):\n",
    "            child = child_node(problem, node, action)\n",
    "            \n",
    "            if not child.state in problem.solution(child.parent):\n",
    "                if problem.goal_test(child):\n",
    "                    return problem.solution(child)\n",
    "                \n",
    "                frontier.appendleft(child)\n",
    "        "
   ]
  },
  {
   "cell_type": "code",
   "execution_count": 20,
   "metadata": {},
   "outputs": [
    {
     "name": "stdout",
     "output_type": "stream",
     "text": [
      "SOLUTION:  deque([8, 10, 9, 7, 6, 5, 4, 2, 3, 1])\n"
     ]
    }
   ],
   "source": [
    "print('SOLUTION: ', depth_first_search(salesperson))"
   ]
  },
  {
   "cell_type": "markdown",
   "metadata": {},
   "source": [
    "#### Busca de Custo Uniforme (Uniform-Coast Search [UCS])"
   ]
  },
  {
   "cell_type": "markdown",
   "metadata": {},
   "source": [
    "Nesta estratégia de busca, o nó com menor caminho é o primeiro a ser expandido. os nós são adicionados na estrutura de dados de acordo com seu custo."
   ]
  },
  {
   "cell_type": "code",
   "execution_count": 21,
   "metadata": {},
   "outputs": [],
   "source": [
    "def insertOrdered(array, node):\n",
    "    \"\"\" Adiciona um nós ao deque em ordem de custo \"\"\"\n",
    "    pos = len(array)\n",
    "    \n",
    "    for index, cur_node in enumerate(array): \n",
    "        if node.path_cost < cur_node.path_cost:\n",
    "            pos = index\n",
    "            break;\n",
    "\n",
    "    array.insert(pos, node)"
   ]
  },
  {
   "cell_type": "code",
   "execution_count": 22,
   "metadata": {},
   "outputs": [],
   "source": [
    "def uniform_cost_search(problem):\n",
    "    node = Node(problem.initial_state, None, None, 0)\n",
    "\n",
    "    if salesperson.goal_test(node):\n",
    "        return solution(node)\n",
    "\n",
    "    frontier = deque([node])\n",
    "    \n",
    "    while True:\n",
    "        if len(frontier) == 0:\n",
    "            return 'Failure'\n",
    "        \n",
    "        node = frontier.popleft()\n",
    "\n",
    "        for action in problem.actions(node.state):\n",
    "            child = child_node(problem, node, action)\n",
    "            \n",
    "            if not child.state in problem.solution(child.parent):\n",
    "                if problem.goal_test(child):\n",
    "                    return problem.solution(child)\n",
    "                \n",
    "                insertOrdered(frontier, child)\n",
    "        "
   ]
  },
  {
   "cell_type": "code",
   "execution_count": 23,
   "metadata": {},
   "outputs": [
    {
     "name": "stdout",
     "output_type": "stream",
     "text": [
      "SOLUTION:  deque([8, 10, 9, 7, 6, 5, 4, 2, 3, 1])\n"
     ]
    }
   ],
   "source": [
    "print('SOLUTION: ', uniform_cost_search(salesperson))"
   ]
  },
  {
   "cell_type": "code",
   "execution_count": null,
   "metadata": {},
   "outputs": [],
   "source": []
  },
  {
   "cell_type": "code",
   "execution_count": null,
   "metadata": {},
   "outputs": [],
   "source": []
  }
 ],
 "metadata": {
  "kernelspec": {
   "display_name": "Python 3",
   "language": "python",
   "name": "python3"
  },
  "language_info": {
   "codemirror_mode": {
    "name": "ipython",
    "version": 3
   },
   "file_extension": ".py",
   "mimetype": "text/x-python",
   "name": "python",
   "nbconvert_exporter": "python",
   "pygments_lexer": "ipython3",
   "version": "3.6.5"
  }
 },
 "nbformat": 4,
 "nbformat_minor": 2
}
