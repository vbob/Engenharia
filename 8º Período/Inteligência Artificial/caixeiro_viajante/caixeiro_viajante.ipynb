{
 "cells": [
  {
   "cell_type": "markdown",
   "metadata": {},
   "source": [
    "# Problema do Caixeiro-Viajante\n",
    "\n",
    "O problema do Caixeiro-Viajante trata a seguinte questão: \n",
    "\n",
    "_Dada uma lista de cidades e a distância entre elas, qual é a rota mais curta que passa por todas as cidades e retorna à cidade de origem?_\n",
    "\n",
    "Apesar da curta descrição, este é um dos mais famosos (e complexos) problemas na Ciência da Computação. Encontrar _a rota mais curta_ entre $n$ cidades, com algoritmos não otimizados, gasta um tempo $O(n!)$: a busca pelo caminho mais curto entre 20 cidades exige muito mais que o dobro de recursos gastos para encontrar a melhor rota entre 10 cidades.\n",
    "\n",
    "Usar busca exaustiva entre todos os caminhos garante que o caminho mais curto será encontrado, mas só é computacionalmente viável para pequenos conjuntos de cidades. Para problemas maiores, técnicas de otimização são necessárias para realizar uma busca inteligente no espaço de estados e encontrar soluções quase-ótimas.\n",
    "\n",
    "Abaixo, o problema será explicado matemáticamente e uma solução utilizando busca exaustiva será descrita.\n",
    "\n",
    "### Descrição do problema usando Teoria dos Grafos\n",
    "\n",
    "O problema do Caixeiro-Viajante pode ser modelado por grafos não direcionados com pesos, de modo que as cidades correspondam às vertices, rotas sejam as arestas, e a distância da rota seja o peso da aresta. A resposta ótima começa e termina no mesmo vértice, após todos os vértices terem sidos visitados pelo menos e somente uma vez. Um modelo baseado em grafos é apresentado na Figura 01.\n",
    "\n",
    "\n",
    "![Exemplo usando Grafos](imgs/img1.png \"Exemplo usando Grafos\")\n",
    "<center style=\"font-size: 0.8em\">Figura 01 - Exemplo de Mapa usando Grafos. Fonte: PIWONSKA, 2011</center>\n",
    "\n",
    "### Solução utilizando Algoritmos de Busca Não-Informada (i.e. Busca Cega)\n",
    "\n",
    "#### a) Definição do Escopo do Problema\n",
    "Para que um problema seja resolvido, é necessário definir seguintes propriedades\n",
    "\n",
    "- Estados: A descrição do estado corresponde à cidade onde o Caixeiro-Viajante se encontra em um dado momento.\n",
    "- Estado Inicial: Qualquer uma das cidades.\n",
    "- Ações Possíveis: Ir à uma das cidades que possuem ligação com a cidade atual.\n",
    "- Modelo de Transição: A lista das cidades visitadas.\n",
    "- Teste de Objetivo: Todas as cidades foram visitadas e a cidade atual é a mesma de onde o Caixeiro-Viajante partiu.\n",
    "\n"
   ]
  },
  {
   "cell_type": "markdown",
   "metadata": {},
   "source": [
    "####  b) Estados\n",
    "Será utilizado o mapa apresentado na Figura 01. Para representação computacional, será utilizada uma matriz $10x10$ onde cada elemento $a_{ij}$ indica a distância entre os vértices $i$ e $j$. Para indicar caminhos inexistentes será utilizado o valor $-1$, e para indicar a cidade atual será utilizado o valor $0$."
   ]
  },
  {
   "cell_type": "code",
   "execution_count": 1,
   "metadata": {},
   "outputs": [
    {
     "name": "stdout",
     "output_type": "stream",
     "text": [
      "Lista de Estados Possíveis: [1, 2, 3, 4, 5, 6, 7, 8, 9, 10] \n"
     ]
    }
   ],
   "source": [
    "dist_matrix = [\n",
    "    [ 0,  8, 13, -1, -1, 14, -1,  8, -1, -1], # Cidade 1\n",
    "    [ 8,  0,  9, 12, -1, -1, -1, -1, -1, 11], # Cidade 2\n",
    "    [13,  9,  0, -1, 13, 15, -1, -1, -1, -1], # Cidade 3\n",
    "    [-1, 12, -1,  0, 19, -1, -1, -1, -1, -1], # Cidade 4\n",
    "    [-1, -1, 13, 19,  0, 15, -1, -1, -1, -1], # Cidade 5\n",
    "    [14, -1, 15, -1, 15,  0, 22, 18, -1, -1], # Cidade 6\n",
    "    [-1, -1, -1, -1, -1, 22,  0, -1, 21, -1], # Cidade 7\n",
    "    [ 8, -1, -1, -1, -1, 18, -1,  0, 10,  8], # Cidade 8\n",
    "    [-1, -1, -1, -1, -1, -1, 21, 10,  0, 12], # Cidade 9\n",
    "    [-1, 11, -1, -1, -1, -1, -1,  8, 12,  0]] # Cidade 10\n",
    "\n",
    "list_of_possible_states = list(range(1, len(dist_matrix) + 1))\n",
    "\n",
    "print('Lista de Estados Possíveis: %s ' % list_of_possible_states)"
   ]
  },
  {
   "cell_type": "markdown",
   "metadata": {},
   "source": [
    "O estado inicial poderá ser qualquer cidade entre 1 e 10"
   ]
  },
  {
   "cell_type": "code",
   "execution_count": 2,
   "metadata": {},
   "outputs": [
    {
     "name": "stdout",
     "output_type": "stream",
     "text": [
      "Estado Inicial: Cidade 1\n"
     ]
    }
   ],
   "source": [
    "initial_state = 1\n",
    "\n",
    "if initial_state < 1 or initial_state > len(dist_matrix):\n",
    "    print('ERRO: Estado Inicial Inválido')\n",
    "else:\n",
    "    print('Estado Inicial: Cidade %s' % initial_state)"
   ]
  },
  {
   "cell_type": "markdown",
   "metadata": {},
   "source": [
    "#### c) Estruturas de Dados e Processamento\n",
    "O primeiro passo para se elaborar uma solução utilizando Busca Não-Informada é criar um modelo de estrutura de dados para manter o controle da árvore de busca que será construída.\n",
    "\n",
    "##### c.1) Nós\n",
    "O Modelo de Nó descrito no livro _Artificial Intelligente: A Modern Approach_, faz uso de três atributos:\n",
    "- Estado: O estado no espaço de estados correspondente ao nó\n",
    "- Pai: O nó da árvore que gerou esse nó\n",
    "- Ação: A ação que foi aplicada para gerar esse nó\n",
    "- Custo do Caminho: O custo do caminho inicial até este nó\n",
    "\n",
    "Para descrever um nó, será criada uma classe com todas essas características."
   ]
  },
  {
   "cell_type": "code",
   "execution_count": 3,
   "metadata": {},
   "outputs": [],
   "source": [
    "class Node:\n",
    "    \"\"\" Classe para representação de Nós \"\"\"\n",
    "    \n",
    "    def __init__(self, state, parent, action, cost):\n",
    "        self.state = state\n",
    "        self.parent = parent\n",
    "        self.action = action\n",
    "        self.cost = cost"
   ]
  },
  {
   "cell_type": "markdown",
   "metadata": {},
   "source": [
    "Dada a estrutura de um Nó, é fácil criar um método que retorne os componentes para um Nó-Filho. O método _child_\\__node_ que recebe um Nó-Pai, uma ação (que é um inteiro, indicando a cidade de destino) e o custo da ação atual, para então retornar o Nó-Filho resultante."
   ]
  },
  {
   "cell_type": "code",
   "execution_count": 4,
   "metadata": {},
   "outputs": [],
   "source": [
    "def child_node(parent, action, now_cost):\n",
    "    \"\"\" Método que retorna um Nó-Filho à partir de um Nó-Pai\"\"\"\n",
    "    \n",
    "    return Node(parent.state, parent, action, parent.cost + now_cost) "
   ]
  },
  {
   "cell_type": "markdown",
   "metadata": {},
   "source": [
    "##### c.2) O problema\n",
    "São necessárias algumas variáveis de controle, além de métodos específicos ao problema. Para isso, será criada uma classe chamada _TravellingSalesman_ que abstrairá essas estruturas, permitindo que o Algoritmo de Busca seja genérico, e não específico ao problema: \n",
    "- Fila: A sequência de ações realizadas, inicialmente vazia.\n",
    "- Estado: O estado atual.\n",
    "- Teste de Objetivo: Verifica se o objetivo foi cumprido.\n",
    "- Ações Possíveis: Retorna uma lista com ações possíveis dado o estado atual.\n",
    "\n",
    "__Atenção__: Por não ser uma busca otimizada, não será verificado se todas as cidades foram visitadas SOMENTE uma vez."
   ]
  },
  {
   "cell_type": "code",
   "execution_count": null,
   "metadata": {},
   "outputs": [],
   "source": [
    "# Deque => Double-Ended Queue \n",
    "# Pode ser utilizada tanto como FIFO quanto como LIFO\n",
    "from collections import deque\n",
    "\n",
    "class TravellingSalesman:\n",
    "    \"\"\" Classe para organização de dados do problema \"\"\"\n",
    "    \n",
    "    def __init__(self):\n",
    "        self.seq = deque()\n",
    "        self.state = initial_state\n",
    "    \n",
    "    def check_goal(self):\n",
    "        \"\"\" Método que retorna verdadeiro caso o objetivo tenha sido alcançado \"\"\"\n",
    "        \n",
    "        return all(elem in self.seq for elem in list_of_possible_states) \n",
    "                and self.state == initial_state\n",
    "    \n",
    "    def possible_states(self):\n",
    "        \"\"\" Método que retorna lista de cidades que podem ser acessadas \n",
    "        à partir da cidade atual \"\"\"\n",
    "        \n",
    "        # Retorna os índices dos estados cujo peso (distância) \n",
    "        # é maior que 0 (ou seja, o caminho existe e não é ele mesmo)\n",
    "        return [state+1 for state, distance in \n",
    "                filter(lambda x: x[1] > 0, enumerate(dist_matrix[self.state-1]))]"
   ]
  },
  {
   "cell_type": "markdown",
   "metadata": {},
   "source": [
    "Forçando elementos na fila para testar se a implementação está correta:"
   ]
  },
  {
   "cell_type": "code",
   "execution_count": 6,
   "metadata": {},
   "outputs": [
    {
     "name": "stdout",
     "output_type": "stream",
     "text": [
      "Estado Atual: 1 \n",
      "Lista de Ações: deque([])\n",
      "Estados Possíveis: [2, 3, 6, 8] \n",
      "Objetivo atingido? False  \n",
      "\n",
      "[...] Inseridos movimentos sequenciais até a cidade 10 \n",
      "\n",
      "Estado Atual: 10 \n",
      "Lista de Ações: deque([2, 3, 4, 5, 6, 7, 8, 9, 10])\n",
      "Estados Possíveis: [2, 8, 9] \n",
      "Objetivo atingido? False  \n",
      "\n",
      "[...] Inseridos movimentos de retorno até a cidade 1 \n",
      "\n",
      "Estado Atual: 1 \n",
      "Lista de Ações: deque([2, 3, 4, 5, 6, 7, 8, 9, 10, 9, 8, 7, 6, 5, 4, 3, 2, 1])\n",
      "Estados Possíveis: [2, 3, 6, 8] \n",
      "Objetivo atingido? True  \n",
      "\n"
     ]
    }
   ],
   "source": [
    "salesman = TravellingSalesman()\n",
    "\n",
    "print('Estado Atual: %s ' % salesman.state)\n",
    "print('Lista de Ações: %s' % salesman.seq)\n",
    "print('Estados Possíveis: %s ' % salesman.possible_states())\n",
    "print('Objetivo atingido? %s  \\n' % salesman.check_goal())\n",
    "\n",
    "print('[...] Inseridos movimentos sequenciais até a cidade 10 \\n')\n",
    "salesman.state = 10\n",
    "salesman.seq = deque([2,3,4,5,6,7,8,9,10])\n",
    "\n",
    "print('Estado Atual: %s ' % salesman.state)\n",
    "print('Lista de Ações: %s' % salesman.seq)\n",
    "print('Estados Possíveis: %s ' % salesman.possible_states())\n",
    "print('Objetivo atingido? %s  \\n' % salesman.check_goal())\n",
    "\n",
    "print('[...] Inseridos movimentos de retorno até a cidade 1 \\n')\n",
    "salesman.state = 1\n",
    "salesman.seq = deque([2,3,4,5,6,7,8,9,10,9,8,7,6,5,4,3,2,1])\n",
    "\n",
    "print('Estado Atual: %s ' % salesman.state)\n",
    "print('Lista de Ações: %s' % salesman.seq)\n",
    "print('Estados Possíveis: %s ' % salesman.possible_states())\n",
    "print('Objetivo atingido? %s  \\n' % salesman.check_goal())"
   ]
  },
  {
   "cell_type": "code",
   "execution_count": null,
   "metadata": {},
   "outputs": [],
   "source": []
  },
  {
   "cell_type": "code",
   "execution_count": null,
   "metadata": {},
   "outputs": [],
   "source": []
  }
 ],
 "metadata": {
  "kernelspec": {
   "display_name": "Python 3",
   "language": "python",
   "name": "python3"
  },
  "language_info": {
   "codemirror_mode": {
    "name": "ipython",
    "version": 3
   },
   "file_extension": ".py",
   "mimetype": "text/x-python",
   "name": "python",
   "nbconvert_exporter": "python",
   "pygments_lexer": "ipython3",
   "version": "3.6.5"
  }
 },
 "nbformat": 4,
 "nbformat_minor": 2
}
