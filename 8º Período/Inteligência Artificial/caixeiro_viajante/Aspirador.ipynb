{
 "cells": [
  {
   "cell_type": "markdown",
   "metadata": {},
   "source": [
    "## Resolução de Problemas por meio de Busca Não-Informada\n",
    "\n"
   ]
  },
  {
   "cell_type": "code",
   "execution_count": 1,
   "metadata": {},
   "outputs": [
    {
     "name": "stdout",
     "output_type": "stream",
     "text": [
      "[[1 1 1]\n",
      " [1 1 1]\n",
      " [1 1 1]\n",
      " [1 1 1]\n",
      " [1 1 1]]\n"
     ]
    }
   ],
   "source": [
    "import numpy as np\n",
    "from collections import deque\n",
    "\n",
    "linhas = 5\n",
    "colunas = 3\n",
    "\n",
    "matriz_estados = np.zeros((linhas,colunas), dtype=np.int32)\n",
    "matriz_estados[0:linhas, 0:colunas] = 1\n",
    "\n",
    "custo_caminho = 1\n",
    "\n",
    "print (matriz_estados)"
   ]
  },
  {
   "cell_type": "markdown",
   "metadata": {},
   "source": [
    "#### esquerda, direita, cima, baixo, limpar"
   ]
  },
  {
   "cell_type": "code",
   "execution_count": 2,
   "metadata": {},
   "outputs": [],
   "source": [
    "acoes = [1,1,1,1,1]"
   ]
  },
  {
   "cell_type": "code",
   "execution_count": 3,
   "metadata": {},
   "outputs": [],
   "source": [
    "def estado(linha, coluna):\n",
    "    erro = True\n",
    "    \n",
    "    estado_inicial = [linha,coluna]\n",
    "\n",
    "    if estado_inicial[0] > linhas or estado_inicial[1] > colunas:\n",
    "        erro = False\n",
    "    \n",
    "    return erro"
   ]
  },
  {
   "cell_type": "code",
   "execution_count": 4,
   "metadata": {},
   "outputs": [],
   "source": [
    "def acoes_possiveis(estado, matriz_transicao):\n",
    "    acoes = [1,1,1,1,1]\n",
    "    \n",
    "    if estado[0] == 0:\n",
    "        acoes[0] = 0\n",
    "        \n",
    "    elif estado[0] == (linhas-1):\n",
    "        acoes[1] = 0\n",
    "    \n",
    "    if estado[1] == 0:\n",
    "        acoes[2] = 0\n",
    "    \n",
    "    elif estado[1] == (colunas-1):\n",
    "        acoes[3] = 0\n",
    "       \n",
    "    if matriz_transicao[estado[0]][estado[1]] == 0:\n",
    "        acoes[4] = 0\n",
    "        \n",
    "    return acoes"
   ]
  },
  {
   "cell_type": "code",
   "execution_count": 5,
   "metadata": {},
   "outputs": [],
   "source": [
    "def testar_objetivo(matriz_transicao):\n",
    "    teste_objetivo = True\n",
    "    for linhas in matriz_transicao:\n",
    "        for valor in linhas:\n",
    "            if valor == 1:\n",
    "                teste_objetivo = False\n",
    "      \n",
    "    return teste_objetivo\n",
    "            "
   ]
  },
  {
   "cell_type": "code",
   "execution_count": 6,
   "metadata": {},
   "outputs": [],
   "source": [
    "class No:\n",
    "\n",
    "    def __init__(self, estado, pai, acao, custo, matriz_transicao):\n",
    "        self.estado = estado\n",
    "        self.pai = pai\n",
    "        self.acao = acao\n",
    "        self.custo = custo\n",
    "        self.matriz_transicao = matriz_transicao\n",
    "        \n",
    "    def __repr__(self):\n",
    "        if self.pai:\n",
    "            return 'No{\\n Estado: %s\\n Pai: %s,\\n Ação: %s,\\n Custo: %s,\\n Matriz Atual:\\n %s\\n}' % (self.estado, self.pai.estado, self.acao, self.custo, self.matriz_transicao)\n",
    "        else:\n",
    "            return 'No{\\n Estado: %s,\\n Pai: %s,\\n Ação: %s,\\n Custo: %s,\\n Matriz Atual:\\n %s\\n}' % (self.estado, 'None', self.acao, self.custo, self.matriz_transicao)"
   ]
  },
  {
   "cell_type": "code",
   "execution_count": 7,
   "metadata": {},
   "outputs": [],
   "source": [
    "def no_filho(pai, acao, matriz_transicao):\n",
    "    \n",
    "    estado_atual = pai.estado.copy()\n",
    "    \n",
    "    if acao[0] == 1:\n",
    "        estado_atual[0] -= 1\n",
    "        acao_atual = \"Esquerda\"\n",
    "        \n",
    "    elif acao[1] == 1:\n",
    "        estado_atual[0] += 1\n",
    "        acao_atual = \"Direita\"\n",
    "        \n",
    "    elif acao[2] == 1:\n",
    "        estado_atual[1] -= 1\n",
    "        acao_atual = \"Cima\"\n",
    "    \n",
    "    elif acao[3] == 1:\n",
    "        estado_atual[1] += 1\n",
    "        acao_atual = \"Baixo\"\n",
    "    \n",
    "    elif acao[4] == 1:        \n",
    "        matriz_transicao[pai.estado[0]][pai.estado[1]] = 0\n",
    "        acao_atual = \"Limpar\"\n",
    "        \n",
    "    # print('pai.estado: %s acao: %s [%s] estado: %s custo %s' %(pai.estado, acao, acao_atual, estado_atual, pai.custo+1))\n",
    "    \n",
    "    no = No(estado_atual, pai, acao_atual, pai.custo + 1, matriz_transicao)\n",
    "    \n",
    "    return no"
   ]
  },
  {
   "cell_type": "code",
   "execution_count": 8,
   "metadata": {},
   "outputs": [
    {
     "name": "stdout",
     "output_type": "stream",
     "text": [
      "No{\n",
      " Estado: [1, 1],\n",
      " Pai: None,\n",
      " Ação: None,\n",
      " Custo: 0,\n",
      " Matriz Atual:\n",
      " [[1 1 1]\n",
      " [1 1 1]\n",
      " [1 1 1]\n",
      " [1 1 1]\n",
      " [1 1 1]]\n",
      "}\n"
     ]
    }
   ],
   "source": [
    "\"\"\" Definição do Nó Raiz \"\"\"\n",
    "\n",
    "linha = 2\n",
    "coluna = 2\n",
    "\n",
    "if estado(linha,coluna):\n",
    "    \n",
    "    estado_inicial = [linha-1, coluna-1]\n",
    "    no_inicial = No(estado_inicial, None, None, 0, matriz_estados)\n",
    "    \n",
    "    print(no_inicial)\n",
    "    \n",
    "else:\n",
    "    print(\"Erro\")"
   ]
  },
  {
   "cell_type": "code",
   "execution_count": 9,
   "metadata": {},
   "outputs": [],
   "source": [
    "def avaliar_solucao(no_final):\n",
    "    vetor_solucao = [no_final.acao]\n",
    "\n",
    "    while not no_final.pai == None:\n",
    "        vetor_solucao.append(no_final.acao)\n",
    "        no_final = no_final.pai\n",
    "        \n",
    "    print (vetor_solucao)"
   ]
  },
  {
   "cell_type": "code",
   "execution_count": null,
   "metadata": {},
   "outputs": [],
   "source": []
  },
  {
   "cell_type": "code",
   "execution_count": 10,
   "metadata": {
    "scrolled": true
   },
   "outputs": [
    {
     "name": "stdout",
     "output_type": "stream",
     "text": [
      "['Direita', 'Direita', 'Direita', 'Limpar', 'Esquerda', 'Limpar', 'Esquerda', 'Limpar', 'Direita', 'Direita', 'Direita', 'Direita', 'Limpar', 'Cima', 'Esquerda', 'Limpar', 'Esquerda', 'Limpar', 'Esquerda', 'Limpar', 'Esquerda', 'Limpar', 'Direita', 'Direita', 'Direita', 'Direita', 'Limpar', 'Baixo', 'Baixo', 'Esquerda', 'Limpar', 'Esquerda', 'Limpar', 'Esquerda', 'Limpar', 'Esquerda', 'Limpar', 'Direita', 'Direita', 'Direita', 'Direita', 'Limpar', 'Cima', 'Esquerda']\n",
      "\n",
      "\n",
      " [[0 0 0]\n",
      " [0 0 0]\n",
      " [0 0 0]\n",
      " [0 0 0]\n",
      " [0 0 0]]\n"
     ]
    }
   ],
   "source": [
    "\"\"\" Busca em largura \"\"\"\n",
    "\n",
    "no = no_inicial\n",
    "\n",
    "borda = deque([no])\n",
    "explorado = deque()\n",
    "limite=0\n",
    "\n",
    "while limite < 500:\n",
    "    \n",
    "    limite+=1\n",
    "    \n",
    "    if limite == 500:\n",
    "        print(no)\n",
    "    \n",
    "    \n",
    "    if testar_objetivo(no.matriz_transicao):\n",
    "        matriz_final = no.matriz_transicao\n",
    "        avaliar_solucao(borda.popleft())\n",
    "        break\n",
    "        \n",
    "    elif len(borda) == 0: \n",
    "        print('Falha ao explorar os nós')\n",
    "        break\n",
    "        \n",
    "    else:\n",
    "        \n",
    "        no = borda.popleft()\n",
    "        \n",
    "        explorado.append(no.matriz_transicao)\n",
    "    \n",
    "        acoes = acoes_possiveis(no.estado, no.matriz_transicao)\n",
    "        \n",
    "        for i, valor in enumerate(acoes):\n",
    "            acao_atual = [0,0,0,0,0]\n",
    "            if valor == 1:\n",
    "                acao_atual[i] = 1\n",
    "                filho = no_filho(no, acao_atual, no.matriz_transicao.copy())  \n",
    "                if len(list(filter(lambda x: x.estado == filho.estado, borda))) == 0:                    \n",
    "                    borda.append(filho)    \n",
    "\n",
    "print(\"\\n\\n\", matriz_final)"
   ]
  },
  {
   "cell_type": "code",
   "execution_count": 11,
   "metadata": {},
   "outputs": [],
   "source": [
    "def bpl_recursiva(no_atual, limite):\n",
    "    if testar_objetivo(no_atual.matriz_transicao):\n",
    "        avaliar_solucao(no_atual)\n",
    "        return('OK')\n",
    "        \n",
    "    elif limite == 0:\n",
    "        return \"erro\"\n",
    "    \n",
    "    else:\n",
    "        corte = False        \n",
    "        acoes = acoes_possiveis(no_atual.estado, no_atual.matriz_transicao)\n",
    "        \n",
    "        if acoes == [0,0,0,0,0]:\n",
    "            return \"erro\"\n",
    "\n",
    "        else:\n",
    "            for i, valor in enumerate(acoes):\n",
    "                acao_atual = [0,0,0,0,0]\n",
    "\n",
    "                if valor == 1:\n",
    "                    acao_atual[i] = 1\n",
    "                    filho = no_filho(no_atual, acao_atual, no_atual.matriz_transicao.copy())                \n",
    "                    resultado = bpl_recursiva(filho, limite-1)\n",
    "\n",
    "                    if(resultado == \"erro\"):\n",
    "                        corte = True\n",
    "\n",
    "                    else: \n",
    "                        return resultado\n",
    "        \n",
    "        if corte:        \n",
    "            return \"erro\""
   ]
  },
  {
   "cell_type": "code",
   "execution_count": null,
   "metadata": {},
   "outputs": [],
   "source": [
    "no_inicial = None\n",
    "\n",
    "\"\"\" Definição do Nó Raiz \"\"\"\n",
    "\n",
    "linha = 2\n",
    "coluna = 2\n",
    "\n",
    "limite = 50\n",
    "\n",
    "if estado(linha,coluna):\n",
    "    estado_inicial = [linha-1, coluna-1]\n",
    "    no_inicial = No(estado_inicial, None, None, 0, matriz_estados)\n",
    "    \n",
    "else:\n",
    "    print(\"Erro\")\n",
    "\n",
    "\n",
    "print(bpl_recursiva(no_inicial, limite))"
   ]
  },
  {
   "cell_type": "code",
   "execution_count": null,
   "metadata": {},
   "outputs": [],
   "source": [
    "\n",
    "        "
   ]
  }
 ],
 "metadata": {
  "kernelspec": {
   "display_name": "Python 3",
   "language": "python",
   "name": "python3"
  },
  "language_info": {
   "codemirror_mode": {
    "name": "ipython",
    "version": 3
   },
   "file_extension": ".py",
   "mimetype": "text/x-python",
   "name": "python",
   "nbconvert_exporter": "python",
   "pygments_lexer": "ipython3",
   "version": "3.7.0"
  }
 },
 "nbformat": 4,
 "nbformat_minor": 2
}
