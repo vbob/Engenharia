{
 "cells": [
  {
   "cell_type": "markdown",
   "metadata": {},
   "source": [
    "## Implementação de Naive Bayes\n",
    "\n",
    "O algoritmo de Naive Bayes é baseado em probabilidade condicional. Este é um dos mais simples algoritmos de classificação. Inicialmente, deve-se separar todas as classes, e então para cada _feature_, é necessário encontrar a probabilidade para seus valores.\n",
    "### Definir as configurações"
   ]
  },
  {
   "cell_type": "code",
   "execution_count": 21,
   "metadata": {},
   "outputs": [],
   "source": [
    "import numpy as np\n",
    "import pandas as pd\n",
    "import math\n",
    "\n",
    "\n",
    "''' Escolher o dataset que será utilizado '''\n",
    "df = pd.read_csv(\"./diabetes.csv\")\n",
    "#df = pd.read_csv(\"./wine.csv\", index_col = False)\n",
    "\n",
    "''' Escolher a coluna de classe do dataset '''\n",
    "target = 'Outcome'\n",
    "#target = 'Alcohol'\n",
    "\n",
    "''' Obtém as colunas de atributos '''\n",
    "features = df.columns[df.columns != target]\n",
    "\n",
    "''' Obtém as classes '''\n",
    "classes = df[target].unique()\n",
    "\n",
    "''' Obtém o tamanho do Dataset '''\n",
    "data_length = len(df.index)\n",
    "\n",
    "''' Configurações do k-fold\n",
    "    k: Quantidade de subsets\n",
    "    num_examples: quantidade, calculada, de exemplos por subset '''\n",
    "k = 10 \n",
    "num_examples = math.floor(data_length/k)    "
   ]
  },
  {
   "cell_type": "markdown",
   "metadata": {},
   "source": [
    "### Construir os Dataset"
   ]
  },
  {
   "cell_type": "code",
   "execution_count": 22,
   "metadata": {},
   "outputs": [],
   "source": [
    "train = []\n",
    "test = []\n",
    "\n",
    "''' Constrói os subsets utilizados para cada iteração do k-fold '''\n",
    "for i in range(0,k):\n",
    "    test.append(df[i*num_examples : (i+1)*num_examples])\n",
    "    train.append(df.drop(test[i].index))"
   ]
  },
  {
   "cell_type": "markdown",
   "metadata": {},
   "source": [
    "### Cálculo das Probabilidades\n",
    "\n",
    "Aqui será caluclada as probabilidades de cada classe, e serão armazenadas em uma estrutura de dicionário \n",
    "\n",
    "```\n",
    "dict: \n",
    "  keys: classe\n",
    "  values: dict: \n",
    "        keys: atributo\n",
    "        values: dict:\n",
    "              keys: valor\n",
    "              values: probabilidade do valor\n",
    "```\n",
    "\n",
    "Deste modo, a probabilidade de cada classe poderá ser facilmente acessada."
   ]
  },
  {
   "cell_type": "code",
   "execution_count": 23,
   "metadata": {},
   "outputs": [],
   "source": [
    "probs = []\n",
    "probcl = []\n",
    "\n",
    "''' Calcula a probabilidade de cada classe, para cada iteração do k-fold'''\n",
    "for i in range(0,k):\n",
    "    \n",
    "    ''' Cria os dicionarios de dados'''\n",
    "    probabilities.append({})\n",
    "    probabilitesPerClass.append({})\n",
    "    \n",
    "    ''' Itera entre as classes '''\n",
    "    for x in classes:\n",
    "        \n",
    "        ''' Obtém os exemplos somente daquela classe '''\n",
    "        df_classes = df[df[target]==x][features]\n",
    "        \n",
    "        ''' Total de amostras da classe'''\n",
    "        samplesPerClass = len(df_classes)\n",
    "        \n",
    "        ''' Vetor de probabilidades (que conterá cada atributo) '''\n",
    "        cols_prob = {}\n",
    "        \n",
    "        ''' Itera entre os atributos '''\n",
    "        for col in dfcl.columns:\n",
    "            ''' Vetor de probabilidades por'''\n",
    "            cols_prob = {}\n",
    "            \n",
    "            ''' Itera entre os valores unicos de cada classe '''\n",
    "            for val, count in dfcl[col].value_counts().iteritems():\n",
    "                \n",
    "                ''' Calcula a probabilidade de um item pertencer àquela classe'''\n",
    "                prob = count/samplesPerClass\n",
    "                \n",
    "                ''' Salva a probabildiade daquela classe '''\n",
    "                col_prob[val] = prob\n",
    "                \n",
    "            ''' Salva a probabilidade de um atributo no vetor de probabilidades'''\n",
    "            cols_prob[col] = col_prob\n",
    "        \n",
    "        ''' Salva a quantidade de valores únicos para cada atributo para aquela classe '''\n",
    "        probabilities[i][x] = cols_prob\n",
    "        \n",
    "        ''' Salva a probabilidade de um elemento pertencer àquela classe '''\n",
    "        probabilitesPerClass[i][x] = len(df_classes)/len(df)\n",
    "\n",
    "        \n",
    "''' \n",
    "Calcula a probabilidade dos elementos de um dataset (de testes)\n",
    "i -> Iteração do k_Fold\n",
    "x -> Pandas.Series\n",
    " \n",
    "'''    \n",
    "def probabs(i, x):    \n",
    "    \n",
    "    ''' Argumento deve ser do tipo Serie'''\n",
    "    if not isinstance(x,pd.Series):\n",
    "        raise IOError(\"Argumento deve ser do tipo Pandas.Series\")\n",
    "    \n",
    "    \n",
    "    prob = {}\n",
    "    for cl in classes:\n",
    "        pr = probcl[i][cl]\n",
    "        for col,val in x.iteritems():\n",
    "            try:\n",
    "                pr *= probs[i][cl][col][val]\n",
    "            except KeyError:\n",
    "                pr = 0\n",
    "        prob[cl] = pr\n",
    "    return prob\n",
    "\n",
    "def classify(i, x):\n",
    "    # i - Iteração K-Fold\n",
    "    # x - DataFrame Pandas com índices\n",
    "    \n",
    "    probab = probabs(i, x)\n",
    "    mx = 0\n",
    "    mxcl = ''\n",
    "    for cl,pr in probab.items():\n",
    "        if pr > mx:\n",
    "            mx = pr\n",
    "            mxcl = cl\n",
    "            \n",
    "    return mxcl"
   ]
  },
  {
   "cell_type": "markdown",
   "metadata": {},
   "source": [
    "### Treinamento"
   ]
  },
  {
   "cell_type": "code",
   "execution_count": 24,
   "metadata": {},
   "outputs": [
    {
     "name": "stdout",
     "output_type": "stream",
     "text": [
      "677 corretos de  692\n",
      "Precisão: 0.9783236994219653\n",
      "\n",
      "678 corretos de  692\n",
      "Precisão: 0.9797687861271677\n",
      "\n",
      "677 corretos de  692\n",
      "Precisão: 0.9783236994219653\n",
      "\n",
      "678 corretos de  692\n",
      "Precisão: 0.9797687861271677\n",
      "\n",
      "677 corretos de  692\n",
      "Precisão: 0.9783236994219653\n",
      "\n",
      "678 corretos de  692\n",
      "Precisão: 0.9797687861271677\n",
      "\n",
      "677 corretos de  692\n",
      "Precisão: 0.9783236994219653\n",
      "\n",
      "678 corretos de  692\n",
      "Precisão: 0.9797687861271677\n",
      "\n",
      "677 corretos de  692\n",
      "Precisão: 0.9783236994219653\n",
      "\n",
      "679 corretos de  692\n",
      "Precisão: 0.9812138728323699\n",
      "\n"
     ]
    }
   ],
   "source": [
    "b = []\n",
    "\n",
    "for l in range(0,k):\n",
    "    for j in train[l].index:\n",
    "        # print(classify(l, train[l].loc[j,features]), train[l].loc[j])\n",
    "        # print('')\n",
    "        b.append([])\n",
    "        b[l].append(classify(l, train[l].loc[j,features]) == train[l].loc[j,target])\n",
    "    \n",
    "    print(sum(b[l]),\"corretos de \",len(train[l]))\n",
    "    print(\"Precisão:\", sum(b[l])/len(train[l]))\n",
    "    print('')"
   ]
  },
  {
   "cell_type": "markdown",
   "metadata": {},
   "source": [
    "### Teste"
   ]
  },
  {
   "cell_type": "code",
   "execution_count": 18,
   "metadata": {},
   "outputs": [
    {
     "name": "stdout",
     "output_type": "stream",
     "text": [
      "17 corretos de 17\n",
      "Precisão: 1.0\n",
      "\n",
      "17 corretos de 17\n",
      "Precisão: 1.0\n",
      "\n",
      "17 corretos de 17\n",
      "Precisão: 1.0\n",
      "\n",
      "17 corretos de 17\n",
      "Precisão: 1.0\n",
      "\n",
      "17 corretos de 17\n",
      "Precisão: 1.0\n",
      "\n",
      "17 corretos de 17\n",
      "Precisão: 1.0\n",
      "\n",
      "17 corretos de 17\n",
      "Precisão: 1.0\n",
      "\n",
      "17 corretos de 17\n",
      "Precisão: 1.0\n",
      "\n",
      "17 corretos de 17\n",
      "Precisão: 1.0\n",
      "\n",
      "17 corretos de 17\n",
      "Precisão: 1.0\n",
      "\n"
     ]
    }
   ],
   "source": [
    "a = []\n",
    "\n",
    "for l in range(0,k):\n",
    "    for j in test[l].index:\n",
    "        #print(classify(l, test[l].loc[j,features]), test[l].loc[j])\n",
    "        #print('')\n",
    "        a.append([])\n",
    "        a[l].append(classify(l, test[l].loc[j,features]) == test[l].loc[j,target])\n",
    "    \n",
    "    print(sum(a[l]),\"corretos de\",len(test[l]))\n",
    "    print(\"Precisão:\", sum(a[l])/len(test[l]))\n",
    "    print('')"
   ]
  },
  {
   "cell_type": "code",
   "execution_count": null,
   "metadata": {},
   "outputs": [],
   "source": []
  }
 ],
 "metadata": {
  "kernelspec": {
   "display_name": "Python 3",
   "language": "python",
   "name": "python3"
  },
  "language_info": {
   "codemirror_mode": {
    "name": "ipython",
    "version": 3
   },
   "file_extension": ".py",
   "mimetype": "text/x-python",
   "name": "python",
   "nbconvert_exporter": "python",
   "pygments_lexer": "ipython3",
   "version": "3.7.0"
  }
 },
 "nbformat": 4,
 "nbformat_minor": 2
}
