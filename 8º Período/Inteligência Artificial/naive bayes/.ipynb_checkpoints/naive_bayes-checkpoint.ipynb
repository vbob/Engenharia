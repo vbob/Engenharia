{
 "cells": [
  {
   "cell_type": "markdown",
   "metadata": {},
   "source": [
    "## Implementação de Naive Bayes\n",
    "\n",
    "O algoritmo de Naive Bayes é baseado em probabilidade condicional. Este é um dos mais simples algoritmos de classificação. Inicialmente, deve-se separar todas as classes, e então para cada _feature_, é necessário encontrar a probabilidade para seus valores.\n",
    "### Definir as configurações"
   ]
  },
  {
   "cell_type": "code",
   "execution_count": 82,
   "metadata": {},
   "outputs": [],
   "source": [
    "import numpy as np\n",
    "import pandas as pd\n",
    "import math\n",
    "\n",
    "\n",
    "diabetes = pd.read_csv(\"./diabetes.csv\")\n",
    "\n",
    "target = 'Outcome'\n",
    "features = diabetes.columns[diabetes.columns != target]\n",
    "classes = diabetes[target].unique()\n",
    "data_length = len(diabetes.index)\n",
    "\n",
    "k = 10\n",
    "num_examples = math.floor(data_length/k)    "
   ]
  },
  {
   "cell_type": "code",
   "execution_count": null,
   "metadata": {},
   "outputs": [],
   "source": [
    "import numpy as np\n",
    "import pandas as pd\n",
    "import math\n",
    "\n",
    "\n",
    "wine = pd.read_csv(\"./wine.csv\")\n",
    "\n",
    "target = 'Alcohol'\n",
    "features = wine.columns[wine.columns != target]\n",
    "classes = wine[target].unique()\n",
    "data_length = len(wine.index)\n",
    "\n",
    "k = 10\n",
    "num_examples = math.floor(data_length/k)    "
   ]
  },
  {
   "cell_type": "markdown",
   "metadata": {},
   "source": [
    "### Construir os Dataset"
   ]
  },
  {
   "cell_type": "code",
   "execution_count": 83,
   "metadata": {},
   "outputs": [],
   "source": [
    "train = []\n",
    "test = []\n",
    "\n",
    "for i in range(0,k):\n",
    "    test.append(diabetes[i*num_examples : (i+1)*num_examples])\n",
    "    train.append(diabetes.drop(test[i].index))"
   ]
  },
  {
   "cell_type": "markdown",
   "metadata": {},
   "source": [
    "### Cálculo das Probabilidades\n",
    "\n",
    "Aqui será caluclada as probabilidades de cada classe, e serão armazenadas em uma estrutura de dicionário \n",
    "\n",
    "```\n",
    "dict: \n",
    "  keys: classe\n",
    "  values: dict: \n",
    "        keys: atributo\n",
    "        values: dict:\n",
    "              keys: valor\n",
    "              values: probabilidade do valor\n",
    "```\n",
    "\n",
    "Deste modo, a probabilidade de cada classe poderá ser facilmente acessada."
   ]
  },
  {
   "cell_type": "code",
   "execution_count": 80,
   "metadata": {},
   "outputs": [],
   "source": [
    "probs = []\n",
    "probcl = []\n",
    "\n",
    "for i in range(0,k):\n",
    "    probs.append({})\n",
    "    probcl.append({})\n",
    "    \n",
    "    for x in classes:\n",
    "        diabetescl = diabetes[diabetes[target]==x][features]\n",
    "        clsp = {}\n",
    "        tot = len(diabetescl)\n",
    "        for col in diabetescl.columns:\n",
    "            colp = {}\n",
    "            for val,cnt in diabetescl[col].value_counts().iteritems():\n",
    "                pr = cnt/tot\n",
    "                colp[val] = pr\n",
    "            clsp[col] = colp\n",
    "        probs[i][x] = clsp\n",
    "        probcl[i][x] = len(diabetescl)/len(diabetes)\n",
    "        \n",
    "def probabs(i, x):\n",
    "    # i - Iteração K-Fold\n",
    "    # x - DataFrame Pandas com índices\n",
    "    \n",
    "    if not isinstance(x,pd.Series):\n",
    "        raise IOError(\"Arg must of type Series\")\n",
    "        \n",
    "    probab = {}\n",
    "    for cl in classes:\n",
    "        pr = probcl[i][cl]\n",
    "        for col,val in x.iteritems():\n",
    "            try:\n",
    "                pr *= probs[i][cl][col][val]\n",
    "            except KeyError:\n",
    "                pr = 0\n",
    "        probab[cl] = pr\n",
    "    return probab\n",
    "\n",
    "def classify(i, x):\n",
    "    # i - Iteração K-Fold\n",
    "    # x - DataFrame Pandas com índices\n",
    "    \n",
    "    probab = probabs(i, x)\n",
    "    mx = 0\n",
    "    mxcl = ''\n",
    "    for cl,pr in probab.items():\n",
    "        if pr > mx:\n",
    "            mx = pr\n",
    "            mxcl = cl\n",
    "            \n",
    "    return mxcl"
   ]
  },
  {
   "cell_type": "markdown",
   "metadata": {},
   "source": [
    "### Treinamento"
   ]
  },
  {
   "cell_type": "code",
   "execution_count": 81,
   "metadata": {},
   "outputs": [
    {
     "name": "stdout",
     "output_type": "stream",
     "text": [
      "677 correct of 692\n",
      "Accuracy: 0.9783236994219653\n",
      "\n",
      "678 correct of 692\n",
      "Accuracy: 0.9797687861271677\n",
      "\n",
      "677 correct of 692\n",
      "Accuracy: 0.9783236994219653\n",
      "\n",
      "678 correct of 692\n",
      "Accuracy: 0.9797687861271677\n",
      "\n",
      "677 correct of 692\n",
      "Accuracy: 0.9783236994219653\n",
      "\n",
      "678 correct of 692\n",
      "Accuracy: 0.9797687861271677\n",
      "\n",
      "677 correct of 692\n",
      "Accuracy: 0.9783236994219653\n",
      "\n",
      "678 correct of 692\n",
      "Accuracy: 0.9797687861271677\n",
      "\n",
      "677 correct of 692\n",
      "Accuracy: 0.9783236994219653\n",
      "\n",
      "679 correct of 692\n",
      "Accuracy: 0.9812138728323699\n",
      "\n"
     ]
    }
   ],
   "source": [
    "b = []\n",
    "\n",
    "for l in range(0,k):\n",
    "    for j in train[l].index:\n",
    "        # print(classify(l, diabetes.loc[j,features]), diabetes.loc[j])\n",
    "        # print('')\n",
    "        b.append([])\n",
    "        b[l].append(classify(l, train[l].loc[j,features]) == train[l].loc[j,target])\n",
    "    \n",
    "    print(sum(b[l]),\"corretos de \",len(train[l]))\n",
    "    print(\"Precisão:\", sum(b[l])/len(train[l]))\n",
    "    print('')"
   ]
  },
  {
   "cell_type": "markdown",
   "metadata": {},
   "source": [
    "### Teste"
   ]
  },
  {
   "cell_type": "code",
   "execution_count": 84,
   "metadata": {},
   "outputs": [
    {
     "name": "stdout",
     "output_type": "stream",
     "text": [
      "75 correct of 76\n",
      "Accuracy: 0.9868421052631579\n",
      "\n",
      "74 correct of 76\n",
      "Accuracy: 0.9736842105263158\n",
      "\n",
      "75 correct of 76\n",
      "Accuracy: 0.9868421052631579\n",
      "\n",
      "74 correct of 76\n",
      "Accuracy: 0.9736842105263158\n",
      "\n",
      "75 correct of 76\n",
      "Accuracy: 0.9868421052631579\n",
      "\n",
      "74 correct of 76\n",
      "Accuracy: 0.9736842105263158\n",
      "\n",
      "75 correct of 76\n",
      "Accuracy: 0.9868421052631579\n",
      "\n",
      "74 correct of 76\n",
      "Accuracy: 0.9736842105263158\n",
      "\n",
      "75 correct of 76\n",
      "Accuracy: 0.9868421052631579\n",
      "\n",
      "73 correct of 76\n",
      "Accuracy: 0.9605263157894737\n",
      "\n"
     ]
    }
   ],
   "source": [
    "a = []\n",
    "\n",
    "for l in range(0,k):\n",
    "    for j in test[l].index:\n",
    "        # print(classify(l, diabetes.loc[j,features]), diabetes.loc[j])\n",
    "        # print('')\n",
    "        a.append([])\n",
    "        a[l].append(classify(l, test[l].loc[j,features]) == test[l].loc[j,target])\n",
    "    \n",
    "    print(sum(a[l]),\"corretos de\",len(test[l]))\n",
    "    print(\"Precisão:\", sum(a[l])/len(test[l]))\n",
    "    print('')"
   ]
  },
  {
   "cell_type": "code",
   "execution_count": null,
   "metadata": {},
   "outputs": [],
   "source": []
  }
 ],
 "metadata": {
  "kernelspec": {
   "display_name": "Python 3",
   "language": "python",
   "name": "python3"
  },
  "language_info": {
   "codemirror_mode": {
    "name": "ipython",
    "version": 3
   },
   "file_extension": ".py",
   "mimetype": "text/x-python",
   "name": "python",
   "nbconvert_exporter": "python",
   "pygments_lexer": "ipython3",
   "version": "3.7.0"
  }
 },
 "nbformat": 4,
 "nbformat_minor": 2
}
